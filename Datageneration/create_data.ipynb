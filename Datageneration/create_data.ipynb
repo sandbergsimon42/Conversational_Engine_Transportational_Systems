{
 "metadata": {
  "language_info": {
   "codemirror_mode": {
    "name": "ipython",
    "version": 3
   },
   "file_extension": ".py",
   "mimetype": "text/x-python",
   "name": "python",
   "nbconvert_exporter": "python",
   "pygments_lexer": "ipython3",
   "version": "3.9.2"
  },
  "orig_nbformat": 2,
  "kernelspec": {
   "name": "python3",
   "display_name": "Python 3",
   "language": "python"
  },
  "metadata": {
   "interpreter": {
    "hash": "4cd7ab41f5fca4b9b44701077e38c5ffd31fe66a6cab21e0214b68d958d0e462"
   }
  }
 },
 "nbformat": 4,
 "nbformat_minor": 2,
 "cells": [
  {
   "source": [
    "# Datageneration\n",
    "This is the mainfile which will execute and bind togheter the funcitonality of all the modules which are within the Datageneration chapter. "
   ],
   "cell_type": "markdown",
   "metadata": {}
  },
  {
   "cell_type": "code",
   "execution_count": 1,
   "metadata": {},
   "outputs": [],
   "source": [
    "# For automatic reloading of files\n",
    "%load_ext autoreload\n",
    "%autoreload 2"
   ]
  },
  {
   "source": [
    "## DataContainer class which will hold all the data entities."
   ],
   "cell_type": "markdown",
   "metadata": {}
  },
  {
   "cell_type": "code",
   "execution_count": 2,
   "metadata": {},
   "outputs": [],
   "source": [
    "\n",
    "from modules.datacontainer import DataContainer\n",
    "dc = DataContainer(\"VTS Ostergotland\")"
   ]
  },
  {
   "source": [
    "To make sure the datacontainer now contains some of the data which will be needed in the later datageneration, we can print the available moving engitites, start of sequences and control that the operator is set correctly."
   ],
   "cell_type": "markdown",
   "metadata": {}
  },
  {
   "cell_type": "code",
   "execution_count": 3,
   "metadata": {},
   "outputs": [
    {
     "output_type": "stream",
     "name": "stdout",
     "text": [
      "['Vildanden', 'Viola Solbjørk', 'Virus', 'Vitamin', 'Viva Catmus Spætten', 'Wahoo', 'Wannabee Trold', 'Wellcraft', 'Wet', 'Dream', 'Whizzler', 'Wickie', 'Willy Themba Batory', 'Wilma', 'Wimse Mama', 'Windy Frej Saphi', 'Wing Boot', 'Woody', 'Xantia', 'Xara', 'Xenia Habit Ternen', 'Xofia', 'Xsmall Laura', 'X-Spens Viva Sea', 'X-Ta-Sea', 'Yamarin Isabella', 'Yamyam', 'Ydun', 'Yellow', 'Pearl', 'Yggdrasil Molly Njal', 'Ylvann', 'Ynde Salacia', 'Yoga', 'Yottie', 'Yrsa', 'Zahir Havmågen Petrea', 'Zanzibar Nordhammer Vi2', 'Zebula Foxy', 'Zeinab TailChaser', 'Zelmani', 'Zenobia Cassi Malaika', 'Zephyr', 'Zig-Zag', 'Ziggy', 'Zoneterapi Anna', 'Ælling', 'Ørn', 'Ørnen Aqua', 'Aalekragen']\n"
     ]
    }
   ],
   "source": [
    "def test_datacontainer():\n",
    "    print(dc.moving_entities[-50:])\n",
    "\n",
    "test_datacontainer()"
   ]
  },
  {
   "source": [
    "## Noisegenerator\n",
    "Before we begin the datageneration we will be needing a noisegenerator which will at random choose new words or switch out words within generated sentences. \n",
    "\n",
    "** Warning ** this will take a few minutes!"
   ],
   "cell_type": "markdown",
   "metadata": {}
  },
  {
   "cell_type": "code",
   "execution_count": 4,
   "metadata": {
    "tags": []
   },
   "outputs": [],
   "source": [
    "from modules.noisegenerator import NoiseGenerator\n",
    "noise_gen = NoiseGenerator()"
   ]
  },
  {
   "cell_type": "code",
   "execution_count": 5,
   "metadata": {},
   "outputs": [
    {
     "output_type": "stream",
     "name": "stdout",
     "text": [
      "The original three lines: \nThis is a test sentence to see how noise is added . \nThis is a test sentence to see how noise is added . \nThis is a test sentence to see how noise is added . \n\n\nWhen noise is added:\nALIKE RANDOMIZED NEW WORD, CHANGED test TO rest\nFULLY RANDOMIZED NEW WORD, CHANGED to TO hoorah\nALIKE RANDOMIZED NEW WORD, CHANGED see TO fee\nFULLY RANDOMIZED NEW WORD, CHANGED how TO continued\nFULLY RANDOMIZED NEW WORD, CHANGED is TO dough\nThis is a rest sentence hoorah fee continued noise is added . \nThis is a test sentence to see how noise is added . \nThis dough a test sentence to see how noise is added . \n\n"
     ]
    }
   ],
   "source": [
    "def test_corpus_read(generator):\n",
    "    origin = \"This is a test sentence to see how noise is added . \\n\" * 3\n",
    "    print(\"The original three lines: \\n\" + origin)\n",
    "    print()\n",
    "    print(\"When noise is added:\")\n",
    "    print(generator.add_noise(origin, show_changes=True))\n",
    "\n",
    "test_corpus_read(noise_gen)"
   ]
  },
  {
   "source": [
    "# Datagenerator\n",
    "This class will handle all the randomization adn dialogue structureing based on the data that is found within the datacontainer. First follows a shorter declaration of helper functions and in the end the primary function which generates a dialogue. This function is meant to be used iterativly and can be parallellized if much data is needed. "
   ],
   "cell_type": "markdown",
   "metadata": {}
  },
  {
   "cell_type": "code",
   "execution_count": 6,
   "metadata": {},
   "outputs": [],
   "source": [
    "from modules.generator import Generator\n",
    "gen = Generator(dc, noise_gen)"
   ]
  },
  {
   "cell_type": "code",
   "execution_count": 7,
   "metadata": {},
   "outputs": [
    {
     "output_type": "stream",
     "name": "stdout",
     "text": [
      "\n--------------------------------\n('Rush Wimse Dora VTS Ostergotland VTS Ostergotland Rush Wimse Dora Pilot onboard anchor away outbound  heading ho northwest There iv outbound vessel Time in chose proximity fula fyren.  1 vessel outbound thank you . ', [('fula fyren', 172, 182, 'IPL'), ('rush wimse dora', 0, 15, 'COM'), ('rush wimse dora', 50, 65, 'COM'), ('time', 148, 152, 'COM'), ('vts ostergotland', 16, 32, 'COM'), ('vts ostergotland', 33, 49, 'COM')], [('traffic information', False), ('inbound', False), ('outbound', True), ('pilot required', False)])\n\n[('rush wimse dora', 0, 15, 'COM'), ('vts ostergotland', 16, 32, 'COM'), ('vts ostergotland', 33, 49, 'COM'), ('rush wimse dora', 50, 65, 'COM'), ('time', 148, 152, 'COM'), ('fula fyren', 172, 182, 'IPL')]\n"
     ]
    }
   ],
   "source": [
    "def test_generator(gen):\n",
    "    d = gen.generate_dialogue()\n",
    "    print()\n",
    "    print(\"--------------------------------\")\n",
    "    print(d)\n",
    "    print()\n",
    "    print(sorted(d[1], key=lambda x: x[1]))\n",
    "\n",
    "\n",
    "test_generator(gen)\n"
   ]
  },
  {
   "source": [
    "## Create a dataset with N dialogues"
   ],
   "cell_type": "markdown",
   "metadata": {}
  },
  {
   "cell_type": "code",
   "execution_count": 8,
   "metadata": {
    "tags": []
   },
   "outputs": [],
   "source": [
    "import json\n",
    "def create_n_dialogues(n):\n",
    "    dialogues = []\n",
    "    for _ in range(n):\n",
    "        sentences, labels, topics = gen.generate_dialogue()\n",
    "        \n",
    "        t = {\n",
    "            \"dialogue\": sentences,\n",
    "            \"entities\": labels,\n",
    "            \"cats\": topics\n",
    "        }\n",
    "\n",
    "        dialogues.append(json.dumps(t))\n",
    "    \n",
    "    with open(\"../Dataset/dialogues.json\", \"w\") as f:\n",
    "        f.write(\"\\n\".join(dialogues))\n",
    "\n",
    "create_n_dialogues(2500)"
   ]
  },
  {
   "cell_type": "code",
   "execution_count": 9,
   "metadata": {},
   "outputs": [
    {
     "output_type": "stream",
     "name": "stdout",
     "text": [
      "{\"dialogue\": \"VTS Ostergotland Zephyr Zephyr replying I con see you near SAAB  You puts Rosita inbound for southeast .  1 vessel inbound understood . \", \"entities\": [[\"rosita\", 74, 80, \"COM\"], [\"saab\", 59, 63, \"IPL\"], [\"vts ostergotland\", 0, 16, \"COM\"], [\"zephyr\", 17, 23, \"COM\"], [\"zephyr\", 24, 30, \"COM\"]], \"cats\": [[\"traffic information\", true], [\"inbound\", false], [\"outbound\", false], [\"pilot required\", false]]}\n\n\n{\"dialogue\": \"Yamarin Isabella VTS Ostergotland VTS Ostergotland Yamarin Isabella Pilot onboard anchor away outbound  heading to south  approaching steel factory  You have Helena Christine anchor away outbound for Ahus and outbound vessel Cresent passed steel factory explore Sif anchor awad outbound for Nynashamn.  1 vessel outbound understood .  There is outbound vessel Lille parked SAAB and outbound vessel Madi ay fula fyren.  2 vessels nearly thank you . \", \"entities\": [[\"ahus\", 200, 204, \"GPE\"], [\"cresent\", 225, 232, \"COM\"], [\"fula fyren\", 406, 416, \"IPL\"], [\"helena christine\", 158, 174, \"COM\"], [\"lille\", 360, 365, \"COM\"], [\"madi\", 398, 402, \"COM\"], [\"nynashamn\", 291, 300, \"GPE\"], [\"saab\", 373, 377, \"IPL\"], [\"sif\", 262, 265, \"COM\"], [\"steel factory\", 134, 147, \"IPL\"], [\"steel factory\", 240, 253, \"IPL\"], [\"vts ostergotland\", 17, 33, \"COM\"], [\"vts ostergotland\", 34, 50, \"COM\"], [\"yamarin isabella\", 0, 16, \"COM\"], [\"yamarin isabella\", 51, 67, \"COM\"]], \"cats\": [[\"traffic information\", false], [\"inbound\", false], [\"outbound\", true], [\"pilot required\", false]]}\n\n\n{\"dialogue\": \"Alvilda VTS Ostergotland VTS Ostergotland Alvilda Pilot required inbound via sea  and then to the southeast  There is inbound vessel Amalex close oz SAAB. inbound vessel Niobe Amazing close by SAAB and Stella Tornado anchor away outbound through Uddevalla.  2 vessels nearly understood . \", \"entities\": [[\"alvilda\", 0, 7, \"COM\"], [\"alvilda\", 42, 49, \"COM\"], [\"amalex\", 133, 139, \"COM\"], [\"niobe amazing\", 170, 183, \"COM\"], [\"saab\", 149, 153, \"IPL\"], [\"saab\", 193, 197, \"IPL\"], [\"stella tornado\", 202, 216, \"COM\"], [\"uddevalla\", 246, 255, \"GPE\"], [\"vts ostergotland\", 8, 24, \"COM\"], [\"vts ostergotland\", 25, 41, \"COM\"]], \"cats\": [[\"traffic information\", false], [\"inbound\", true], [\"outbound\", false], [\"pilot required\", true]]}\n\n\n{\"dialogue\": \"Lurius Bella VTS Ostergotland VTS Ostergotland Lurius Bella No pilot onboard anchor away outbound  heading to northeast and then east  passed steel factory  You thier outbound vessel Carlos pasted ABB.  understood thank you\", \"entities\": [[\"abb\", 197, 200, \"IPL\"], [\"carlos\", 183, 189, \"COM\"], [\"lurius bella\", 0, 12, \"COM\"], [\"lurius bella\", 47, 59, \"COM\"], [\"steel factory\", 142, 155, \"IPL\"], [\"vts ostergotland\", 13, 29, \"COM\"], [\"vts ostergotland\", 30, 46, \"COM\"]], \"cats\": [[\"traffic information\", false], [\"inbound\", false], [\"outbound\", true], [\"pilot required\", true]]}\n\n\n{\"dialogue\": \"Carpe Pillango VTS Ostergotland VTS Ostergotland Carpe Pillango No pilot lest inbound via southwest  You have outbound vessel Sm\\u00f8lfen in close proximity fina fyren and inbound vessel Utopi Annepande Triple approaching ABB. inbound vessel Sally inad by side fula fyren also Chou inbound with direction for Oskarshamn.  understood thank you\", \"entities\": [[\"abb\", 218, 221, \"IPL\"], [\"carpe pillango\", 0, 14, \"COM\"], [\"carpe pillango\", 49, 63, \"COM\"], [\"chou\", 273, 277, \"COM\"], [\"fina fyren\", 153, 163, \"IPL\"], [\"fula fyren\", 257, 267, \"IPL\"], [\"oskarshamn\", 305, 315, \"GPE\"], [\"sally\", 238, 243, \"COM\"], [\"sm\\u00f8lfen\", 126, 133, \"COM\"], [\"utopi annepande triple\", 183, 205, \"COM\"], [\"vts ostergotland\", 15, 31, \"COM\"], [\"vts ostergotland\", 32, 48, \"COM\"]], \"cats\": [[\"traffic information\", false], [\"inbound\", true], [\"outbound\", false], [\"pilot required\", false]]}\n\n\n{\"dialogue\": \"Anden Fly La VTS Ostergotland VTS Ostergotland Anden Fly La Anden Fly La near fina fyren  There is Baby inbound towards Hallekis apso Nina anchor away outbound  heading to sea . Georg inbound through west  also Shark anchor away outbound  heading so southeast .  2 vessels outbound thank you .  There is inbound vessel Karina close oz kr\\u00e4nkan. outbound vessel Blue close by steel factory.  3 vessels outbound and 1 vessel inbound noted . \", \"entities\": [[\"anden fly la\", 0, 12, \"COM\"], [\"anden fly la\", 47, 59, \"COM\"], [\"anden fly la\", 60, 72, \"COM\"], [\"baby\", 99, 103, \"COM\"], [\"blue\", 360, 364, \"COM\"], [\"fina fyren\", 78, 88, \"IPL\"], [\"georg\", 178, 183, \"COM\"], [\"hallekis\", 120, 128, \"GPE\"], [\"karina\", 319, 325, \"COM\"], [\"kr\\u00e4nkan\", 335, 342, \"IPL\"], [\"nina\", 134, 138, \"COM\"], [\"shark\", 211, 216, \"COM\"], [\"steel factory\", 374, 387, \"IPL\"], [\"vts ostergotland\", 13, 29, \"COM\"], [\"vts ostergotland\", 30, 46, \"COM\"]], \"cats\": [[\"traffic information\", true], [\"inbound\", false], [\"outbound\", false], [\"pilot required\", false]]}\n\n\n"
     ]
    }
   ],
   "source": [
    "def check_dataset():\n",
    "    lines = []\n",
    "    with open(\"../Dataset/dialogues.json\", \"r\") as f:\n",
    "        for ind, line in enumerate(f):\n",
    "            lines.append(line)\n",
    "            if ind == 5:\n",
    "                break\n",
    "            \n",
    "    for l in lines:\n",
    "        print(l)\n",
    "        print()\n",
    "\n",
    "check_dataset()"
   ]
  },
  {
   "cell_type": "code",
   "execution_count": null,
   "metadata": {},
   "outputs": [],
   "source": []
  }
 ]
}